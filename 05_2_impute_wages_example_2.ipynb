{
 "cells": [
  {
   "cell_type": "markdown",
   "metadata": {},
   "source": [
    "# Measurement error: impute missing wage\n",
    "\n",
    "If our research question focuses on determining the quarterly wage for 2009 Missouri university and college graduates holding full-term employment in the quarter falling one year after graduation, we encounter bias in our quarterly wage estimates when the data contain wage values for quarter t-1, quarter t+1, but no value for quarter t. In this notebook, we will explore the effects of addressing missing value bias through imputation."
   ]
  },
  {
   "cell_type": "markdown",
   "metadata": {},
   "source": [
    "## Python Setup\n",
    "\n",
    "Before we begin, run the code cell below to initialize the libraries we'll be using in this assignment. We're already familiar with `matplotlib`, `pandas`, and `psycopg2` from previous tutorials."
   ]
  },
  {
   "cell_type": "code",
   "execution_count": null,
   "metadata": {},
   "outputs": [],
   "source": [
    "%pylab inline\n",
    "import pandas as pd\n",
    "import psycopg2\n",
    "from sqlalchemy import create_engine\n",
    "import matplotlib.pyplot as plt\n",
    "import time"
   ]
  },
  {
   "cell_type": "code",
   "execution_count": null,
   "metadata": {},
   "outputs": [],
   "source": [
    "# and set our database connection parameters\n",
    "db_name = \"appliedda\"\n",
    "hostname = \"10.10.2.10\""
   ]
  },
  {
   "cell_type": "code",
   "execution_count": null,
   "metadata": {},
   "outputs": [],
   "source": [
    "# set database connections - use psycopg2 to more easily execute queries without returning data \n",
    "# (eg for series of CREATE queries)\n",
    "conn = psycopg2.connect(database=db_name, host=hostname)\n",
    "cursor = conn.cursor()"
   ]
  },
  {
   "cell_type": "markdown",
   "metadata": {},
   "source": [
    "## Define the study cohort\n",
    "2009 grads of Missouri public colleges/universtities"
   ]
  },
  {
   "cell_type": "code",
   "execution_count": null,
   "metadata": {},
   "outputs": [],
   "source": [
    "# create temp table of all unique 2009 graduates\n",
    "start_time = time.time()\n",
    "sql = '''\n",
    "drop table if exists cohort_2009;\n",
    "\n",
    "create temp table cohort_2009 AS\n",
    "select distinct on (deident_id) deident_id, gender, calyear,\n",
    "    case when acterm = '31' then 1 when acterm = '41' then 2\n",
    "        when acterm = '11' then 3 when acterm = '21' then 3 else null end as quarter\n",
    "from mo_dhe.completions\n",
    "where calyear = 2009;\n",
    "\n",
    "commit;\n",
    "'''\n",
    "\n",
    "cursor.execute(sql)\n",
    "\n",
    "print('query complete in {:.2f} seconds'.format(time.time()-start_time))"
   ]
  },
  {
   "cell_type": "code",
   "execution_count": null,
   "metadata": {},
   "outputs": [],
   "source": [
    "start_time = time.time()\n",
    "sql = '''\n",
    "alter table cohort_2009\n",
    "    add column yr_q text;\n",
    "commit;\n",
    "\n",
    "update cohort_2009 \n",
    "    set yr_q = format('%s-%s-1', calyear, quarter*3-2)::date;\n",
    "commit;\n",
    "'''\n",
    "\n",
    "cursor.execute(sql)"
   ]
  },
  {
   "cell_type": "markdown",
   "metadata": {},
   "source": [
    "## Locate in Missouri's and all states' wage data grads with employment within one year after graduation \n",
    "\n",
    "Above we defined our graduate population.\n",
    "Here we start to look at their post-graduation earnings. We start with Missouri and then add Illinois, Ohio, and Indiana. "
   ]
  },
  {
   "cell_type": "code",
   "execution_count": null,
   "metadata": {},
   "outputs": [],
   "source": [
    "# first up: Missouri employment during quarters t+1, t+2, t+3, t+4 following graduation in quarter t of 2009\n",
    "start_time = time.time()\n",
    "\n",
    "sql = '''\n",
    "drop table if exists cohort_2009_mo_jobs_1yr;\n",
    "\n",
    "create temp table cohort_2009_mo_jobs_1yr as\n",
    "select ssn, ein, state, format('%s-%s-1', year, quarter*3-2)::date j_yr_q, wage\n",
    "from kcmo_lehd.mo_wage\n",
    "where (year = 2009 and quarter <> 1)\n",
    "    or year = 2010\n",
    "    and ssn in (select distinct on (deident_id) deident_id from cohort_2009);\n",
    "\n",
    "commit;\n",
    "'''\n",
    "cursor.execute(sql)\n",
    "\n",
    "print('query complete in {:.2f} seconds'.format(time.time()-start_time))"
   ]
  },
  {
   "cell_type": "code",
   "execution_count": null,
   "metadata": {},
   "outputs": [],
   "source": [
    "# next up:workers in Illinois\n",
    "start_time = time.time()\n",
    "\n",
    "sql = '''\n",
    "drop table if exists cohort_2009_il_jobs_1yr;\n",
    "\n",
    "create temp table cohort_2009_il_jobs_1yr AS\n",
    "select *\n",
    "from il_des_kcmo.il_wage\n",
    "where (year = 2009 and quarter <> 1)\n",
    "    or year = 2010\n",
    "    and ssn in (select distinct on (deident_id) deident_id from cohort_2009);\n",
    "\n",
    "commit;\n",
    "'''\n",
    "cursor.execute(sql)\n",
    "\n",
    "print('query complete in {:.2f} seconds'.format(time.time()-start_time))"
   ]
  },
  {
   "cell_type": "code",
   "execution_count": null,
   "metadata": {},
   "outputs": [],
   "source": [
    "# next up: workers in Ohio\n",
    "\n",
    "start_time = time.time()\n",
    "\n",
    "sql = '''\n",
    "drop table if exists cohort_2009_oh_jobs_1yr;\n",
    "\n",
    "create temp table cohort_2009_oh_jobs_1yr as\n",
    "select a.*, b.ssn_hash as ssn\n",
    "from data_ohio_olda_2018.oh_ui_wage_by_employer a\n",
    "join data_ohio_olda_2018.oh_person b\n",
    "on a.key_id = b.key_id\n",
    "where (year = 2009 and quarter <> 1)\n",
    "    or year = 2010\n",
    "    and b.ssn_hash in (select distinct on (deident_id) deident_id from cohort_2009);\n",
    "\n",
    "commit;\n",
    "'''\n",
    "cursor.execute(sql)\n",
    "\n",
    "print('query complete in {:.2f} seconds'.format(time.time()-start_time))"
   ]
  },
  {
   "cell_type": "code",
   "execution_count": null,
   "metadata": {},
   "outputs": [],
   "source": [
    "# last up: workers in Indiana\n",
    "\n",
    "start_time = time.time()\n",
    "\n",
    "sql = '''\n",
    "drop table if exists cohort_2009_in_jobs_1yr;\n",
    "\n",
    "create temp table cohort_2009_in_jobs_1yr as\n",
    "select *\n",
    "from in_data_2019.wages_by_employer\n",
    "where (year = 2009 and quarter <> 1) \n",
    "    or year = 2010\n",
    "    and ssn in (select distinct on (deident_id) deident_id from cohort_2009);\n",
    "\n",
    "commit;\n",
    "'''\n",
    "cursor.execute(sql)\n",
    "\n",
    "print('query complete in {:.2f} seconds'.format(time.time()-start_time))"
   ]
  },
  {
   "cell_type": "code",
   "execution_count": null,
   "metadata": {
    "scrolled": true
   },
   "outputs": [],
   "source": [
    "# compile cohort jobs from all other states into single table\n",
    "sql = \"\"\" \n",
    "drop table if exists cohort_2009_jobs_1yr;\n",
    "\n",
    "create temp table cohort_2009_jobs_1yr as\n",
    "select ssn, format('%s-%s-1', year, quarter*3-2)::date j_yr_q, wage\n",
    "FROM cohort_2009_il_jobs_1yr\n",
    "union all\n",
    "select ssn, format('%s-%s-1', year, quarter*3-2)::date j_yr_q, wages as wage\n",
    "FROM cohort_2009_oh_jobs_1yr\n",
    "union all\n",
    "select ssn, format('%s-%s-1', year, quarter*3-2)::date j_yr_q, wages as wage\n",
    "from cohort_2009_in_jobs_1yr;\n",
    "\n",
    "commit;\n",
    "\"\"\"\n",
    "cursor.execute(sql)\n",
    "\n",
    "print('query complete in {:.2f} seconds'.format(time.time()-start_time))"
   ]
  },
  {
   "cell_type": "code",
   "execution_count": null,
   "metadata": {},
   "outputs": [],
   "source": [
    "# quick look at our Missouri wage data\n",
    "sql = '''\n",
    "select *\n",
    "from cohort_2009_mo_jobs_1yr\n",
    "limit 5\n",
    "'''\n",
    "df = pd.read_sql(sql, conn)\n",
    "df.head()"
   ]
  },
  {
   "cell_type": "markdown",
   "metadata": {},
   "source": [
    "## Isolate cases where a grad has wages for a preceding and subsequent quarter, but not the quarter in between\n",
    "* we first look at Missouri jobs\n",
    "* we then look at other states"
   ]
  },
  {
   "cell_type": "code",
   "execution_count": null,
   "metadata": {},
   "outputs": [],
   "source": [
    "# create a table for wages earned in t+1, t+2, t+3, t+4\n",
    "cohort_2009_mo_q = \"\"\"\n",
    "drop table if exists cohort_2009_link_mo;\n",
    "\n",
    "create temp table cohort_2009_link_mo as\n",
    "\n",
    "with t_plus_1 as (select a.deident_id, a.yr_q, e.ssn, e.wage, e.j_yr_q\n",
    "    from cohort_2009 a\n",
    "    join cohort_2009_mo_jobs_1yr e\n",
    "        on a.deident_id = e.ssn\n",
    "        and a.yr_q::date = (e.j_yr_q::date -'3 month'::interval)::date),\n",
    "    \n",
    "    t_plus_2 as (select a.deident_id, a.yr_q, d.ssn, d.wage, d.j_yr_q\n",
    "    from cohort_2009 a\n",
    "    join cohort_2009_mo_jobs_1yr d\n",
    "        on a.deident_id = d.ssn\n",
    "        and a.yr_q::date = (d.j_yr_q::date -'6 month'::interval)::date),\n",
    "\n",
    "    t_plus_3 as (select a.deident_id, a.yr_q, c.ssn, c.wage, c.j_yr_q\n",
    "        from cohort_2009 a\n",
    "        join cohort_2009_mo_jobs_1yr c\n",
    "            on a.deident_id = c.ssn\n",
    "            and a.yr_q::date = (c.j_yr_q::date - '9 month'::interval)::date),\n",
    "    \n",
    "    t_plus_4 as (select a.deident_id, a.yr_q, b.ssn, b.wage, b.j_yr_q\n",
    "        from cohort_2009 a\n",
    "        join cohort_2009_mo_jobs_1yr b\n",
    "            on a.deident_id = b.ssn\n",
    "            and a.yr_q::date = (b.j_yr_q::date - '1 year'::interval)::date)\n",
    "                  \n",
    "select a.deident_id, t_plus_1.j_yr_q as t_plus_1, t_plus_2.j_yr_q as t_plus_2, \n",
    "        t_plus_3.j_yr_q as t_plus_3, t_plus_4.j_yr_q as t_plus_4,\n",
    "        t_plus_1.wage as wage_t_plus_1, t_plus_2.wage as wage_t_plus_2,\n",
    "        t_plus_3.wage as wage_t_plus_3, t_plus_4.wage as wage_t_plus_4\n",
    "from cohort_2009 a\n",
    "    left join t_plus_1 on a.deident_id = t_plus_1.ssn\n",
    "    left join t_plus_2 on a.deident_id = t_plus_2.ssn\n",
    "    left join t_plus_3 on a.deident_id = t_plus_3.ssn\n",
    "    left join t_plus_4 on a.deident_id = t_plus_4.ssn\n",
    "where (t_plus_1.wage is not null and t_plus_2.wage is null and t_plus_3.wage is not null) or\n",
    "      (t_plus_2.wage is not null and t_plus_3.wage is null and t_plus_4.wage is not null)\n",
    "\n",
    "order by a.deident_id;\n",
    "\n",
    "commit;\n",
    "\"\"\"\n",
    "cursor.execute(cohort_2009_mo_q)"
   ]
  },
  {
   "cell_type": "code",
   "execution_count": null,
   "metadata": {},
   "outputs": [],
   "source": [
    "# create the same table for other states\n",
    "cohort_2009_full_q = \"\"\"\n",
    "drop table if exists cohort_2009_link_full;\n",
    "\n",
    "create temp table cohort_2009_link_full as\n",
    "\n",
    "with t_plus_1 as (select a.deident_id, a.yr_q, e.ssn, e.wage, e.j_yr_q\n",
    "    from cohort_2009 a\n",
    "    join cohort_2009_jobs_1yr e\n",
    "        on a.deident_id = e.ssn\n",
    "        and a.yr_q::date = (e.j_yr_q::date -'3 month'::interval)::date),\n",
    "    \n",
    "    t_plus_2 as (select a.deident_id, a.yr_q, d.ssn, d.wage, d.j_yr_q\n",
    "    from cohort_2009 a\n",
    "    join cohort_2009_jobs_1yr d\n",
    "        on a.deident_id = d.ssn\n",
    "        and a.yr_q::date = (d.j_yr_q::date -'6 month'::interval)::date),\n",
    "\n",
    "    t_plus_3 as (select a.deident_id, a.yr_q, c.ssn, c.wage, c.j_yr_q\n",
    "        from cohort_2009 a\n",
    "        join cohort_2009_jobs_1yr c\n",
    "            on a.deident_id = c.ssn\n",
    "            and a.yr_q::date = (c.j_yr_q::date - '9 month'::interval)::date),\n",
    "    \n",
    "    t_plus_4 as (select a.deident_id, a.yr_q, b.ssn, b.wage, b.j_yr_q\n",
    "        from cohort_2009 a\n",
    "        join cohort_2009_jobs_1yr b\n",
    "            on a.deident_id = b.ssn\n",
    "            and a.yr_q::date = (b.j_yr_q::date - '1 year'::interval)::date)\n",
    "                  \n",
    "select a.deident_id, t_plus_1.j_yr_q as t_plus_1, t_plus_2.j_yr_q as t_plus_2, \n",
    "        t_plus_3.j_yr_q as t_plus_3, t_plus_4.j_yr_q as t_plus_4,\n",
    "        t_plus_1.wage as wage_t_plus_1, t_plus_2.wage as wage_t_plus_2,\n",
    "        t_plus_3.wage as wage_t_plus_3, t_plus_4.wage as wage_t_plus_4\n",
    "from cohort_2009 a\n",
    "    left join t_plus_1 on a.deident_id = t_plus_1.ssn\n",
    "    left join t_plus_2 on a.deident_id = t_plus_2.ssn\n",
    "    left join t_plus_3 on a.deident_id = t_plus_3.ssn\n",
    "    left join t_plus_4 on a.deident_id = t_plus_4.ssn\n",
    "where (t_plus_1.wage is not null and t_plus_2.wage is null and t_plus_3.wage is not null) or\n",
    "      (t_plus_2.wage is not null and t_plus_3.wage is null and t_plus_4.wage is not null)\n",
    "\n",
    "order by a.deident_id;\n",
    "\n",
    "commit;\n",
    "\"\"\"\n",
    "cursor.execute(cohort_2009_full_q)"
   ]
  },
  {
   "cell_type": "code",
   "execution_count": null,
   "metadata": {},
   "outputs": [],
   "source": [
    "# load the data into a pandas dataframe and get a quick look\n",
    "q = \"\"\"\n",
    "select * from cohort_2009_link_mo\n",
    "\"\"\"\n",
    "dfmo = pd.read_sql(q, conn)\n",
    "dfmo.head()"
   ]
  },
  {
   "cell_type": "code",
   "execution_count": null,
   "metadata": {},
   "outputs": [],
   "source": [
    "# load the data into a pandas dataframe and get a quick look\n",
    "q = \"\"\"\n",
    "select * from cohort_2009_link_full\n",
    "\"\"\"\n",
    "df = pd.read_sql(q, conn)\n",
    "df.head()"
   ]
  },
  {
   "cell_type": "markdown",
   "metadata": {},
   "source": [
    "## impute wage values and explore resulting wage estimate distributions"
   ]
  },
  {
   "cell_type": "code",
   "execution_count": null,
   "metadata": {},
   "outputs": [],
   "source": [
    "# let's look at the distribution of Missouri wages for quarter t before imputation\n",
    "dfmo['wage_t_plus_2'].describe()"
   ]
  },
  {
   "cell_type": "code",
   "execution_count": null,
   "metadata": {},
   "outputs": [],
   "source": [
    "# impute missing quarter t+2 wages row wise as mean of wages\n",
    "dfmo['t_2_imp_mean'] = dfmo.wage_t_plus_2.fillna(dfmo[['wage_t_plus_1', 'wage_t_plus_3', 'wage_t_plus_4']].mean(axis = 1))\n",
    "dfmo['t_2_imp_mean'].describe()"
   ]
  },
  {
   "cell_type": "code",
   "execution_count": null,
   "metadata": {},
   "outputs": [],
   "source": [
    "# impute t wage as zero\n",
    "dfmo['t_2_imp_zero'] = dfmo.wage_t_plus_2.fillna(0)\n",
    "dfmo['t_2_imp_zero'].describe()"
   ]
  },
  {
   "cell_type": "code",
   "execution_count": null,
   "metadata": {},
   "outputs": [],
   "source": [
    "# see all three distributions side-by-side\n",
    "fig,ax = plt.subplots(figsize = (10, 10))\n",
    "dfmo[['wage_t_plus_2', 't_2_imp_mean', 't_2_imp_zero']].boxplot(grid = False, vert = False)\n",
    "ax.set(title = 'distribution of wage values',\n",
    "       yticklabels = ['no imputation', 'imputed rowwise mean', 'imputed zero'],\n",
    "       xlim = (-500,20000),\n",
    "       xticks = (np.arange(0, 20000, 1500)));"
   ]
  },
  {
   "cell_type": "code",
   "execution_count": null,
   "metadata": {},
   "outputs": [],
   "source": [
    "# let's look at the distribution of other states' wages for quarter t before imputation\n",
    "df['wage_t_plus_2'].describe()"
   ]
  },
  {
   "cell_type": "code",
   "execution_count": null,
   "metadata": {},
   "outputs": [],
   "source": [
    "# impute missing quarter t+2 wages row wise as mean of wages\n",
    "df['t_2_imp_mean'] = df.wage_t_plus_2.fillna(df[['wage_t_plus_1', 'wage_t_plus_3', 'wage_t_plus_4']].mean(axis = 1))\n",
    "df['t_2_imp_mean'].describe()"
   ]
  },
  {
   "cell_type": "code",
   "execution_count": null,
   "metadata": {},
   "outputs": [],
   "source": [
    "# impute t wage as zero\n",
    "df['t_2_imp_zero'] = df.wage_t_plus_2.fillna(0)\n",
    "df['t_2_imp_zero'].describe()"
   ]
  },
  {
   "cell_type": "code",
   "execution_count": null,
   "metadata": {},
   "outputs": [],
   "source": [
    "# see all three distributions side-by-side\n",
    "fig,ax = plt.subplots(figsize = (10, 10))\n",
    "df[['wage_t_plus_2', 't_2_imp_mean', 't_2_imp_zero']].boxplot(grid = False, vert = False)\n",
    "ax.set(title = 'distribution of wage values',\n",
    "       yticklabels = ['no imputation', 'imputed rowwise mean', 'imputed zero'],\n",
    "       xlim = (-500,20000),\n",
    "       xticks = (np.arange(0, 20000, 1500)));"
   ]
  }
 ],
 "metadata": {
  "kernelspec": {
   "display_name": "py3-ada",
   "language": "python",
   "name": "py3-ada"
  },
  "language_info": {
   "codemirror_mode": {
    "name": "ipython",
    "version": 3
   },
   "file_extension": ".py",
   "mimetype": "text/x-python",
   "name": "python",
   "nbconvert_exporter": "python",
   "pygments_lexer": "ipython3",
   "version": "3.7.3"
  },
  "toc": {
   "nav_menu": {},
   "number_sections": false,
   "sideBar": true,
   "skip_h1_title": false,
   "toc_cell": true,
   "toc_position": {},
   "toc_section_display": "block",
   "toc_window_display": false
  }
 },
 "nbformat": 4,
 "nbformat_minor": 2
}
