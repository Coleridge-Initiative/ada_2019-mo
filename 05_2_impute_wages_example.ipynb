{
 "cells": [
  {
   "cell_type": "markdown",
   "metadata": {
    "toc": true
   },
   "source": [
    "<h1>Table of Contents<span class=\"tocSkip\"></span></h1>\n",
    "<div class=\"toc\" style=\"margin-top: 1em;\"><ul class=\"toc-item\"><li><span><a href=\"#Measurement-error:-impute-missing-wage\" data-toc-modified-id=\"Measurement-error:-impute-missing-wage-1\">Measurement error: impute missing wage</a></span><ul class=\"toc-item\"><li><span><a href=\"#Python-Setup\" data-toc-modified-id=\"Python-Setup-1.1\">Python Setup</a></span></li><li><span><a href=\"#Define-the-study-cohort\" data-toc-modified-id=\"Define-the-study-cohort-1.2\">Define the study cohort</a></span></li><li><span><a href=\"#Locate-in-all-states'-wage-data-full-term-employment-with-the-same-employer-within-one-year-after-graduation\" data-toc-modified-id=\"Locate-in-all-states'-wage-data-full-term-employment-with-the-same-employer-within-one-year-after-graduation-1.3\">Locate in all states' wage data full term employment with the same employer within one year after graduation</a></span></li><li><span><a href=\"#Isolate-cases-where,-for-the-same-grad/employer-pair,-we-have-a-wage-for-t-1,-t+1,-but-not-t\" data-toc-modified-id=\"Isolate-cases-where,-for-the-same-grad/employer-pair,-we-have-a-wage-for-t-1,-t+1,-but-not-t-1.4\">Isolate cases where, for the same grad/employer pair, we have a wage for t-1, t+1, but not t</a></span></li><li><span><a href=\"#impute-wage-values-and-explore-resulting-wage-estimate-distributions\" data-toc-modified-id=\"impute-wage-values-and-explore-resulting-wage-estimate-distributions-1.5\">impute wage values and explore resulting wage estimate distributions</a></span></li></ul></li></ul></div>"
   ]
  },
  {
   "cell_type": "markdown",
   "metadata": {},
   "source": [
    "<img style=\"float: center;\" src=\"./images/CI_horizontal.png\" width=\"600\">\n",
    "<center>\n",
    "    <span style=\"font-size: 1.5em;\">\n",
    "        <a href='https://www.coleridgeinitiative.org'>Website</a>\n",
    "    </span>\n",
    "</center>\n"
   ]
  },
  {
   "cell_type": "markdown",
   "metadata": {},
   "source": [
    "# Measurement error: impute missing wage\n",
    "\n",
    "If our research question focuses on determining the quarterly wage for 2009 Missouri university and college graduates holding full-term employment in the quarter falling one year after graduation, we encounter bias in our quarterly wage estimates when the data contain wage values for quarter t-1, quarter t+1, but no value for quarter t. In this notebook, we will explore the effects of addressing missing value bias through imputation."
   ]
  },
  {
   "cell_type": "markdown",
   "metadata": {},
   "source": [
    "## Python Setup\n",
    "\n",
    "Before we begin, run the code cell below to initialize the libraries we'll be using in this assignment. We're already familiar with `matplotlib`, `pandas`, and `psycopg2` from previous tutorials."
   ]
  },
  {
   "cell_type": "code",
   "execution_count": null,
   "metadata": {},
   "outputs": [],
   "source": [
    "%pylab inline\n",
    "import pandas as pd\n",
    "import psycopg2\n",
    "from sqlalchemy import create_engine\n",
    "import numpy as np\n",
    "import matplotlib.pyplot as plt\n",
    "import time"
   ]
  },
  {
   "cell_type": "code",
   "execution_count": null,
   "metadata": {
    "collapsed": true
   },
   "outputs": [],
   "source": [
    "# and set our database connection parameters\n",
    "db_name = \"appliedda\"\n",
    "hostname = \"10.10.2.10\""
   ]
  },
  {
   "cell_type": "code",
   "execution_count": null,
   "metadata": {
    "collapsed": true
   },
   "outputs": [],
   "source": [
    "# set database connections - use psycopg2 to more easily execute queries without returning data \n",
    "# (eg for series of CREATE queries)\n",
    "conn = psycopg2.connect(database=db_name, host=hostname)\n",
    "cursor = conn.cursor()"
   ]
  },
  {
   "cell_type": "markdown",
   "metadata": {},
   "source": [
    "## Define the study cohort\n",
    "2009 grads of Missouri public colleges/universtities"
   ]
  },
  {
   "cell_type": "code",
   "execution_count": null,
   "metadata": {
    "scrolled": true
   },
   "outputs": [],
   "source": [
    "# quick glance at the data\n",
    "\n",
    "sql = '''\n",
    "select *\n",
    "from mo_dhe.completions\n",
    "limit 5;\n",
    "'''\n",
    "df = pd.read_sql(sql, conn)\n",
    "df.head()"
   ]
  },
  {
   "cell_type": "code",
   "execution_count": null,
   "metadata": {},
   "outputs": [],
   "source": [
    "# create temp table of all unique 2009 graduates\n",
    "start_time = time.time()\n",
    "sql = '''\n",
    "drop table if exists cohort_2009;\n",
    "\n",
    "create temp table cohort_2009 AS\n",
    "select distinct on (deident_id) deident_id, calyear,\n",
    "    case when acterm = '31' then 1 when acterm = '41' then 2\n",
    "        when acterm = '11' then 3 when acterm = '21' then 3 else null end as quarter\n",
    "from mo_dhe.completions\n",
    "where calyear = 2009;\n",
    "\n",
    "commit;\n",
    "'''\n",
    "\n",
    "cursor.execute(sql)\n",
    "\n",
    "print('query complete in {:.2f} seconds'.format(time.time()-start_time))"
   ]
  },
  {
   "cell_type": "code",
   "execution_count": null,
   "metadata": {
    "collapsed": true
   },
   "outputs": [],
   "source": [
    "start_time = time.time()\n",
    "sql = '''\n",
    "alter table cohort_2009\n",
    "    add column yr_q text;\n",
    "commit;\n",
    "\n",
    "update cohort_2009 \n",
    "    set yr_q = format('%s-%s-1', calyear, quarter*3-2)::date;\n",
    "commit;\n",
    "'''\n",
    "\n",
    "cursor.execute(sql)"
   ]
  },
  {
   "cell_type": "code",
   "execution_count": null,
   "metadata": {},
   "outputs": [],
   "source": [
    "# a quick look at the grad data\n",
    "sql = '''\n",
    "select *\n",
    "from cohort_2009\n",
    "'''\n",
    "df = pd.read_sql(sql, conn)\n",
    "df.head()"
   ]
  },
  {
   "cell_type": "code",
   "execution_count": null,
   "metadata": {},
   "outputs": [],
   "source": [
    "print('there are {:,.0f} graduates in our selected study period'.format(df.shape[0]))"
   ]
  },
  {
   "cell_type": "code",
   "execution_count": null,
   "metadata": {},
   "outputs": [],
   "source": [
    "df['deident_id'].nunique() # confirm unique individual records"
   ]
  },
  {
   "cell_type": "markdown",
   "metadata": {},
   "source": [
    "## Locate in all states' wage data full term employment with the same employer within one year after graduation \n",
    "\n",
    "Above we defined our population.\n",
    "\n",
    "Now we'll say a given individual has achieved full term employment if s/he has the same employer for all of quarter t, which means s/he must have also been with that employer for some or all of quarter t-1 and some or all of quarter t+1."
   ]
  },
  {
   "cell_type": "code",
   "execution_count": null,
   "metadata": {},
   "outputs": [],
   "source": [
    "# first up: Missouri workers\n",
    "start_time = time.time()\n",
    "\n",
    "sql = '''\n",
    "drop table if exists cohort_2009_mo_jobs_1yr;\n",
    "\n",
    "create temp table cohort_2009_mo_jobs_1yr as\n",
    "select *\n",
    "from kcmo_lehd.mo_wage\n",
    "where (year = 2010 or (year = 2009 and quarter = 4) \n",
    "        or (year = 2011 and quarter = 1))\n",
    "    and ssn in (select distinct on (deident_id) deident_id from cohort_2009);\n",
    "\n",
    "commit;\n",
    "'''\n",
    "cursor.execute(sql)\n",
    "\n",
    "print('query complete in {:.2f} seconds'.format(time.time()-start_time))"
   ]
  },
  {
   "cell_type": "code",
   "execution_count": null,
   "metadata": {},
   "outputs": [],
   "source": [
    "# next up:workers in Illinois\n",
    "start_time = time.time()\n",
    "\n",
    "sql = '''\n",
    "drop table if exists cohort_2009_il_jobs_1yr;\n",
    "\n",
    "create temp table cohort_2009_il_jobs_1yr AS\n",
    "select *\n",
    "from il_des_kcmo.il_wage\n",
    "where (year = 2010 or (year = 2009 and quarter = 4) \n",
    "        or (year = 2011 and quarter = 1))\n",
    "    and ssn in (select distinct on (deident_id) deident_id from cohort_2009);\n",
    "\n",
    "commit;\n",
    "'''\n",
    "cursor.execute(sql)\n",
    "\n",
    "print('query complete in {:.2f} seconds'.format(time.time()-start_time))"
   ]
  },
  {
   "cell_type": "code",
   "execution_count": null,
   "metadata": {},
   "outputs": [],
   "source": [
    "# next up: workers in Ohio\n",
    "\n",
    "start_time = time.time()\n",
    "\n",
    "sql = '''\n",
    "drop table if exists cohort_2009_oh_jobs_1yr;\n",
    "\n",
    "create temp table cohort_2009_oh_jobs_1yr as\n",
    "select a.*, b.ssn_hash as ssn\n",
    "from data_ohio_olda_2018.oh_ui_wage_by_employer a\n",
    "join data_ohio_olda_2018.oh_person b\n",
    "on a.key_id = b.key_id\n",
    "where (year = 2010 or (year = 2009 and quarter = 4) \n",
    "        or (year = 2011 and quarter = 1))\n",
    "    and b.ssn_hash in (select distinct on (deident_id) deident_id from cohort_2009);\n",
    "\n",
    "commit;\n",
    "'''\n",
    "cursor.execute(sql)\n",
    "\n",
    "print('query complete in {:.2f} seconds'.format(time.time()-start_time))"
   ]
  },
  {
   "cell_type": "code",
   "execution_count": null,
   "metadata": {},
   "outputs": [],
   "source": [
    "# last up: workers in Indiana\n",
    "\n",
    "start_time = time.time()\n",
    "\n",
    "sql = '''\n",
    "drop table if exists cohort_2009_in_jobs_1yr;\n",
    "\n",
    "create temp table cohort_2009_in_jobs_1yr as\n",
    "select *\n",
    "from in_data_2019.wages_by_employer\n",
    "where (year = 2010 or (year = 2009 and quarter = 4) \n",
    "        or (year = 2011 and quarter = 1))\n",
    "    and ssn in (select distinct on (deident_id) deident_id from cohort_2009);\n",
    "\n",
    "commit;\n",
    "'''\n",
    "cursor.execute(sql)\n",
    "\n",
    "print('query complete in {:.2f} seconds'.format(time.time()-start_time))"
   ]
  },
  {
   "cell_type": "code",
   "execution_count": null,
   "metadata": {
    "scrolled": true
   },
   "outputs": [],
   "source": [
    "# compile cohort jobs from all states into single table\n",
    "sql = \"\"\" \n",
    "drop table if exists cohort_2009_jobs_1yr;\n",
    "\n",
    "create temp table cohort_2009_jobs_1yr as\n",
    "select ssn, ein, state, format('%s-%s-1', year, quarter*3-2)::date j_yr_q, wage\n",
    "from cohort_2009_mo_jobs_1yr\n",
    "union all\n",
    "select ssn, ein, state, format('%s-%s-1', year, quarter*3-2)::date j_yr_q, wage\n",
    "FROM cohort_2009_il_jobs_1yr\n",
    "union all\n",
    "select ssn, employer::text as ein, '39' as state, format('%s-%s-1', year, quarter*3-2)::date j_yr_q, wages as wage\n",
    "FROM cohort_2009_oh_jobs_1yr\n",
    "union all\n",
    "select ssn, fein as ein, '18' as state, format('%s-%s-1', year, quarter*3-2)::date j_yr_q, wages as wage\n",
    "from cohort_2009_in_jobs_1yr;\n",
    "\n",
    "commit;\n",
    "\"\"\"\n",
    "cursor.execute(sql)\n",
    "\n",
    "print('query complete in {:.2f} seconds'.format(time.time()-start_time))"
   ]
  },
  {
   "cell_type": "code",
   "execution_count": null,
   "metadata": {},
   "outputs": [],
   "source": [
    "# quick look at our combined wage data\n",
    "sql = '''\n",
    "select *\n",
    "from cohort_2009_jobs_1yr\n",
    "limit 5\n",
    "'''\n",
    "df = pd.read_sql(sql, conn)\n",
    "df.head()"
   ]
  },
  {
   "cell_type": "markdown",
   "metadata": {},
   "source": [
    "## Isolate cases where, for the same grad/employer pair, we have a wage for t-1, t+1, but not t\n",
    "* we create a single table of t-1, t, and t+1 wages where the t-1 pair = t+1 pair "
   ]
  },
  {
   "cell_type": "code",
   "execution_count": null,
   "metadata": {
    "collapsed": true
   },
   "outputs": [],
   "source": [
    "# create a table for wages earned 9 months (t-1), 12 months (t), and 15 months (t+1)\n",
    "SQL_COHORT_2009_Q = \"\"\"\n",
    "drop table if exists cohort_2009_link_full;\n",
    "\n",
    "create temp table cohort_2009_link_full as\n",
    "\n",
    "with t_minus as (select a.deident_id, a.yr_q, d.ssn, d.wage, d.j_yr_q, d.ein\n",
    "    from cohort_2009 a\n",
    "    join cohort_2009_jobs_1yr d\n",
    "        on a.deident_id = d.ssn\n",
    "        and a.yr_q::date = (d.j_yr_q::date -'9 month'::interval)::date),\n",
    "    \n",
    "    t as (select a.deident_id, a.yr_q, c.ssn, c.wage, c.j_yr_q, c.ein\n",
    "    from cohort_2009 a\n",
    "    join cohort_2009_jobs_1yr c\n",
    "        on a.deident_id = c.ssn\n",
    "        and a.yr_q::date = (c.j_yr_q::date -'12 month'::interval)::date),\n",
    "\n",
    "    t_plus as (select a.deident_id, a.yr_q, b.ssn, b.wage, b.j_yr_q, b.ein\n",
    "        from cohort_2009 a\n",
    "        join cohort_2009_jobs_1yr b\n",
    "            on a.deident_id = b.ssn\n",
    "            and a.yr_q::date = (b.j_yr_q::date - '15 month'::interval)::date)\n",
    "        \n",
    "select a.deident_id, t_minus.j_yr_q as t_minus_1, t.j_yr_q as quarter_t, t_plus.j_yr_q as t_plus_1,\n",
    "    t_minus.ein as employer, \n",
    "    t_minus.wage as wage_t_minus_1,  t.wage as wage_t, t_plus.wage as wage_t_plus_1  \n",
    "from cohort_2009 as a\n",
    "    left join t_minus on a.deident_id = t_minus.ssn\n",
    "    left join t on a.deident_id = t.ssn\n",
    "    left join t_plus on a.deident_id = t_plus.ssn\n",
    "where concat(a.deident_id, t_minus.ein) = concat(a.deident_id, t_plus.ein)\n",
    "and (t_minus.ein <> 'None' or t.ein <> 'None' or t_plus.ein <> 'None')\n",
    "order by a.deident_id, t_minus.ein;\n",
    "\n",
    "commit;\n",
    "\n",
    "\"\"\"\n",
    "cursor.execute(SQL_COHORT_2009_Q)"
   ]
  },
  {
   "cell_type": "code",
   "execution_count": null,
   "metadata": {},
   "outputs": [],
   "source": [
    "# load the data into a pandas dataframe and get a quick look\n",
    "q = \"\"\"\n",
    "select * from cohort_2009_link_full\n",
    "\"\"\"\n",
    "df = pd.read_sql(q, conn)\n",
    "df.head(10)"
   ]
  },
  {
   "cell_type": "code",
   "execution_count": null,
   "metadata": {},
   "outputs": [],
   "source": [
    "df.shape"
   ]
  },
  {
   "cell_type": "code",
   "execution_count": null,
   "metadata": {},
   "outputs": [],
   "source": [
    "# how many missing wage values are there?\n",
    "df['wage_t'].isna().sum()"
   ]
  },
  {
   "cell_type": "markdown",
   "metadata": {},
   "source": [
    "## impute wage values and explore resulting wage estimate distributions"
   ]
  },
  {
   "cell_type": "code",
   "execution_count": null,
   "metadata": {},
   "outputs": [],
   "source": [
    "# let's look at the distribution of wages for quarter t before imputation\n",
    "df['wage_t'].describe()"
   ]
  },
  {
   "cell_type": "code",
   "execution_count": null,
   "metadata": {},
   "outputs": [],
   "source": [
    "fig,ax = plt.subplots(figsize = (10, 5))\n",
    "df[['wage_t']].boxplot(grid = False, vert = False)\n",
    "ax.set(title = 'distribution of wage values',\n",
    "       xlim = (-500,30000),\n",
    "       xticks = (np.arange(0, 30000, 2500)));"
   ]
  },
  {
   "cell_type": "code",
   "execution_count": null,
   "metadata": {},
   "outputs": [],
   "source": [
    "# impute missing quarter t wages row wise as mean of t-1, t+1 wages \n",
    "df['wage_t_imp_mean'] = df.wage_t.fillna(df[['wage_t_minus_1', 'wage_t_plus_1']].mean(axis = 1))\n",
    "df['wage_t_imp_mean'].describe()"
   ]
  },
  {
   "cell_type": "code",
   "execution_count": null,
   "metadata": {},
   "outputs": [],
   "source": [
    "# impute t wage as zero\n",
    "df['wage_t_imp_zero'] = df.wage_t.fillna(0)\n",
    "df['wage_t_imp_zero'].describe()"
   ]
  },
  {
   "cell_type": "code",
   "execution_count": null,
   "metadata": {},
   "outputs": [],
   "source": [
    "# see all three distributions side-by-side\n",
    "fig,ax = plt.subplots(figsize = (10, 10))\n",
    "df[['wage_t', 'wage_t_imp_mean', 'wage_t_imp_zero']].boxplot(grid = False, vert = False)\n",
    "ax.set(title = 'distribution of wage values',\n",
    "       xlim = (-500,30000),\n",
    "       xticks = (np.arange(0, 30000, 2500)));"
   ]
  },
  {
   "cell_type": "code",
   "execution_count": null,
   "metadata": {
    "collapsed": true
   },
   "outputs": [],
   "source": []
  }
 ],
 "metadata": {
  "kernelspec": {
   "display_name": "ADRF_Python3",
   "language": "python",
   "name": "adrf_python3"
  },
  "language_info": {
   "codemirror_mode": {
    "name": "ipython",
    "version": 3
   },
   "file_extension": ".py",
   "mimetype": "text/x-python",
   "name": "python",
   "nbconvert_exporter": "python",
   "pygments_lexer": "ipython3",
   "version": "3.6.6"
  },
  "toc": {
   "nav_menu": {},
   "number_sections": false,
   "sideBar": true,
   "skip_h1_title": false,
   "toc_cell": true,
   "toc_position": {},
   "toc_section_display": "block",
   "toc_window_display": false
  }
 },
 "nbformat": 4,
 "nbformat_minor": 2
}
